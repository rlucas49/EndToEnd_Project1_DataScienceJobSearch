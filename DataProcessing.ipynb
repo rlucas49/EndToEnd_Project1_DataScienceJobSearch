{
 "cells": [
  {
   "cell_type": "markdown",
   "id": "ce081fca-2405-4d51-a38d-05c5eb96e84d",
   "metadata": {},
   "source": [
    "# Processing of Job Search Life Cycle Data"
   ]
  },
  {
   "cell_type": "markdown",
   "id": "7918aea7-8ce0-45aa-b6f5-5a8ccd668886",
   "metadata": {},
   "source": [
    "This is notebook #1. It was created to demonstrate the approach of how to build out an end-to-end data science project. \n",
    "The goal is to showcase steps in a project including:\n",
    "- data wrangling,\n",
    "- simple data engineering,\n",
    "- some basic EDA,\n",
    "- an analysis,\n",
    "- a visualization,\n",
    "- handling secure access via a personal access token, and\n",
    "- some simple ML Ops. \n",
    "\n",
    "The subject matter examines hypothetical data from a job search for a data scientist position.\n",
    "\n",
    "Created Sept 18, 2025"
   ]
  },
  {
   "cell_type": "code",
   "execution_count": 1,
   "id": "adb82fbc-3713-42cc-bc1a-4f6c2beed93b",
   "metadata": {},
   "outputs": [],
   "source": [
    "# Import libraries\n",
    "import pandas as pd\n",
    "import os\n",
    "from dotenv import load_dotenv  #,dotenv_values"
   ]
  },
  {
   "cell_type": "markdown",
   "id": "0be2e0e3-25c2-4c63-a8b2-1713307f98b5",
   "metadata": {},
   "source": [
    "## Imports"
   ]
  },
  {
   "cell_type": "code",
   "execution_count": 2,
   "id": "0e8c16be-4172-4bcb-9110-b3203b61880c",
   "metadata": {},
   "outputs": [
    {
     "name": "stdout",
     "output_type": "stream",
     "text": [
      "PAT token loaded successfully.\n"
     ]
    }
   ],
   "source": [
    "# Load environment variables from .env file\n",
    "load_dotenv()\n",
    "\n",
    "# Get the PAT from the environment variables\n",
    "pat_token = os.getenv(\"PAT_TOKEN\")\n",
    "# pat_token = os.getenv(\"PWD\")\n",
    "\n",
    "# Check if the token was loaded successfully\n",
    "if pat_token:\n",
    "    print(\"PAT token loaded successfully.\")\n",
    "    # Now you can use the pat_token in your code, for example:\n",
    "    # api_url = \"https://api.github.com/user\"\n",
    "    # headers = {\"Authorization\": f\"token {pat_token}\"}\n",
    "    # response = requests.get(api_url, headers=headers)\n",
    "else:\n",
    "    print(\"Error: PAT_TOKEN environment variable not found.\")"
   ]
  },
  {
   "cell_type": "code",
   "execution_count": 3,
   "id": "73f2b6f3-25ed-4899-ac00-77f144d08b6c",
   "metadata": {},
   "outputs": [
    {
     "name": "stdout",
     "output_type": "stream",
     "text": [
      "(150, 4)\n"
     ]
    },
    {
     "data": {
      "text/html": [
       "<div>\n",
       "<style scoped>\n",
       "    .dataframe tbody tr th:only-of-type {\n",
       "        vertical-align: middle;\n",
       "    }\n",
       "\n",
       "    .dataframe tbody tr th {\n",
       "        vertical-align: top;\n",
       "    }\n",
       "\n",
       "    .dataframe thead th {\n",
       "        text-align: right;\n",
       "    }\n",
       "</style>\n",
       "<table border=\"1\" class=\"dataframe\">\n",
       "  <thead>\n",
       "    <tr style=\"text-align: right;\">\n",
       "      <th></th>\n",
       "      <th>Company</th>\n",
       "      <th>InterviewOrNot</th>\n",
       "      <th>ResumeNum</th>\n",
       "      <th>notes</th>\n",
       "    </tr>\n",
       "  </thead>\n",
       "  <tbody>\n",
       "    <tr>\n",
       "      <th>0</th>\n",
       "      <td>Republic Services</td>\n",
       "      <td>interviewed</td>\n",
       "      <td>V07.1</td>\n",
       "      <td>Failed</td>\n",
       "    </tr>\n",
       "    <tr>\n",
       "      <th>1</th>\n",
       "      <td>USAA</td>\n",
       "      <td>NaN</td>\n",
       "      <td>V_08.1</td>\n",
       "      <td>Rejection notice</td>\n",
       "    </tr>\n",
       "    <tr>\n",
       "      <th>2</th>\n",
       "      <td>IMPACT Technology Recruiting</td>\n",
       "      <td>NaN</td>\n",
       "      <td>V_08.2</td>\n",
       "      <td>NaN</td>\n",
       "    </tr>\n",
       "    <tr>\n",
       "      <th>3</th>\n",
       "      <td>Early Warning Services</td>\n",
       "      <td>NaN</td>\n",
       "      <td>V_08.3</td>\n",
       "      <td>Rejection notice</td>\n",
       "    </tr>\n",
       "    <tr>\n",
       "      <th>4</th>\n",
       "      <td>Workiva</td>\n",
       "      <td>NaN</td>\n",
       "      <td>V_08.2</td>\n",
       "      <td>NaN</td>\n",
       "    </tr>\n",
       "    <tr>\n",
       "      <th>...</th>\n",
       "      <td>...</td>\n",
       "      <td>...</td>\n",
       "      <td>...</td>\n",
       "      <td>...</td>\n",
       "    </tr>\n",
       "    <tr>\n",
       "      <th>145</th>\n",
       "      <td>Reaching Beyond LLC</td>\n",
       "      <td>NaN</td>\n",
       "      <td>V11.1</td>\n",
       "      <td>NaN</td>\n",
       "    </tr>\n",
       "    <tr>\n",
       "      <th>146</th>\n",
       "      <td>Beacon Hill Staffing Group</td>\n",
       "      <td>NaN</td>\n",
       "      <td>V11.1</td>\n",
       "      <td>NaN</td>\n",
       "    </tr>\n",
       "    <tr>\n",
       "      <th>147</th>\n",
       "      <td>Resideo</td>\n",
       "      <td>NaN</td>\n",
       "      <td>V11.1</td>\n",
       "      <td>NaN</td>\n",
       "    </tr>\n",
       "    <tr>\n",
       "      <th>148</th>\n",
       "      <td>OpenVPN</td>\n",
       "      <td>NaN</td>\n",
       "      <td>V11.1</td>\n",
       "      <td>NaN</td>\n",
       "    </tr>\n",
       "    <tr>\n",
       "      <th>149</th>\n",
       "      <td>IMO Health</td>\n",
       "      <td>NaN</td>\n",
       "      <td>V11.1</td>\n",
       "      <td>NaN</td>\n",
       "    </tr>\n",
       "  </tbody>\n",
       "</table>\n",
       "<p>150 rows × 4 columns</p>\n",
       "</div>"
      ],
      "text/plain": [
       "                          Company InterviewOrNot ResumeNum             notes\n",
       "0               Republic Services    interviewed     V07.1            Failed\n",
       "1                            USAA            NaN    V_08.1  Rejection notice\n",
       "2    IMPACT Technology Recruiting            NaN    V_08.2               NaN\n",
       "3          Early Warning Services            NaN    V_08.3  Rejection notice\n",
       "4                         Workiva            NaN    V_08.2               NaN\n",
       "..                            ...            ...       ...               ...\n",
       "145           Reaching Beyond LLC            NaN     V11.1               NaN\n",
       "146    Beacon Hill Staffing Group            NaN     V11.1               NaN\n",
       "147                       Resideo            NaN     V11.1               NaN\n",
       "148                       OpenVPN            NaN     V11.1               NaN\n",
       "149                    IMO Health            NaN     V11.1               NaN\n",
       "\n",
       "[150 rows x 4 columns]"
      ]
     },
     "execution_count": 3,
     "metadata": {},
     "output_type": "execute_result"
    }
   ],
   "source": [
    "# Import data\n",
    "# Working with a live copy of the original data\n",
    "filename = ('~/Documents/JobSearch/Potential Job List 2025.xlsx')\n",
    "pdf_original_data = pd.read_excel(filename, sheet_name = 'yr2025', \n",
    "                skiprows=0, nrows=151, \n",
    "                usecols=[\"Company\",\"InterviewOrNot\",\n",
    "                          \"ResumeNum\",\"notes\"])\n",
    "print(pdf_original_data.shape)\n",
    "pdf_original_data"
   ]
  },
  {
   "cell_type": "markdown",
   "id": "cfaa824e-99c3-4c79-90c0-514b98c79862",
   "metadata": {},
   "source": [
    " ## Initial EDA on Raw Data"
   ]
  },
  {
   "cell_type": "code",
   "execution_count": 7,
   "id": "1ae00b10-0b3b-4b10-bbd0-607412e84244",
   "metadata": {},
   "outputs": [
    {
     "name": "stdout",
     "output_type": "stream",
     "text": [
      "<class 'pandas.core.frame.DataFrame'>\n",
      "RangeIndex: 150 entries, 0 to 149\n",
      "Data columns (total 7 columns):\n",
      " #   Column          Non-Null Count  Dtype         \n",
      "---  ------          --------------  -----         \n",
      " 0   Company         150 non-null    object        \n",
      " 1   Job Title       150 non-null    object        \n",
      " 2   InterviewOrNot  17 non-null     object        \n",
      " 3   Location        144 non-null    object        \n",
      " 4   Date Applied    150 non-null    datetime64[ns]\n",
      " 5   ResumeNum       149 non-null    object        \n",
      " 6   notes           76 non-null     object        \n",
      "dtypes: datetime64[ns](1), object(6)\n",
      "memory usage: 8.3+ KB\n"
     ]
    }
   ],
   "source": [
    "pdf_original_data.info()"
   ]
  },
  {
   "cell_type": "code",
   "execution_count": 8,
   "id": "da64ade1-0fbe-4d14-aa85-dcc6edcd6ab4",
   "metadata": {},
   "outputs": [
    {
     "data": {
      "text/html": [
       "<div>\n",
       "<style scoped>\n",
       "    .dataframe tbody tr th:only-of-type {\n",
       "        vertical-align: middle;\n",
       "    }\n",
       "\n",
       "    .dataframe tbody tr th {\n",
       "        vertical-align: top;\n",
       "    }\n",
       "\n",
       "    .dataframe thead th {\n",
       "        text-align: right;\n",
       "    }\n",
       "</style>\n",
       "<table border=\"1\" class=\"dataframe\">\n",
       "  <thead>\n",
       "    <tr style=\"text-align: right;\">\n",
       "      <th></th>\n",
       "      <th>Date Applied</th>\n",
       "    </tr>\n",
       "  </thead>\n",
       "  <tbody>\n",
       "    <tr>\n",
       "      <th>count</th>\n",
       "      <td>150</td>\n",
       "    </tr>\n",
       "    <tr>\n",
       "      <th>mean</th>\n",
       "      <td>2025-07-28 16:00:00</td>\n",
       "    </tr>\n",
       "    <tr>\n",
       "      <th>min</th>\n",
       "      <td>2025-04-17 00:00:00</td>\n",
       "    </tr>\n",
       "    <tr>\n",
       "      <th>25%</th>\n",
       "      <td>2025-07-11 00:00:00</td>\n",
       "    </tr>\n",
       "    <tr>\n",
       "      <th>50%</th>\n",
       "      <td>2025-07-29 00:00:00</td>\n",
       "    </tr>\n",
       "    <tr>\n",
       "      <th>75%</th>\n",
       "      <td>2025-08-13 18:00:00</td>\n",
       "    </tr>\n",
       "    <tr>\n",
       "      <th>max</th>\n",
       "      <td>2025-09-17 00:00:00</td>\n",
       "    </tr>\n",
       "  </tbody>\n",
       "</table>\n",
       "</div>"
      ],
      "text/plain": [
       "              Date Applied\n",
       "count                  150\n",
       "mean   2025-07-28 16:00:00\n",
       "min    2025-04-17 00:00:00\n",
       "25%    2025-07-11 00:00:00\n",
       "50%    2025-07-29 00:00:00\n",
       "75%    2025-08-13 18:00:00\n",
       "max    2025-09-17 00:00:00"
      ]
     },
     "execution_count": 8,
     "metadata": {},
     "output_type": "execute_result"
    }
   ],
   "source": [
    "pdf_original_data.describe()"
   ]
  },
  {
   "cell_type": "code",
   "execution_count": 4,
   "id": "252ede7c-cb51-47ad-9df8-82e15213aa2c",
   "metadata": {},
   "outputs": [
    {
     "data": {
      "text/plain": [
       "array(['Failed', 'Rejection notice', nan, 'Reject', 'Hiring freeze',\n",
       "       'Pending', 'Wrong role/fit/WLB/pay'], dtype=object)"
      ]
     },
     "execution_count": 4,
     "metadata": {},
     "output_type": "execute_result"
    }
   ],
   "source": [
    "# Examine the unique values in the 'notes' column. Use these in functions below.\n",
    "pdf_original_data['notes'].unique()"
   ]
  },
  {
   "cell_type": "markdown",
   "id": "153b74d7-4d4e-4c18-8b5a-a29b5067fcb6",
   "metadata": {},
   "source": [
    "## Create a Function for Each Node in the Sankey Plot"
   ]
  },
  {
   "cell_type": "code",
   "execution_count": 5,
   "id": "387fac5c-0afc-44f2-8629-359d373c71bb",
   "metadata": {},
   "outputs": [],
   "source": [
    "#### Function to count the number of applications\n",
    "def no_response(df):\n",
    "    return df['notes'].isnull().sum()\n",
    "\n",
    "# Function to count rejection notices\n",
    "def rejection_notice(df):\n",
    "    return df[df['notes']=='Rejection notice'].shape[0]\n",
    "\n",
    "# Function to count calls with recruiter\n",
    "def calls_with_recruiter(df):\n",
    "    l_recruiter_calls = [\"Wrong role/fit/WLB/pay\", \"Failed\",\"Hiring freeze\", \"Reject\", \"Pending\"]\n",
    "    return df[df['notes'].isin(l_recruiter_calls)].shape[0]\n",
    "\n",
    "# Function to count wrong fit\n",
    "def wrong_fit(df):\n",
    "    return df[df['notes']=='Wrong role/fit/WLB/pay'].shape[0]\n",
    "\n",
    "# Function to count Tech screen\n",
    "def tech_screen(df):\n",
    "    l_tech_screen = [\"Failed\",\"Hiring freeze\", \"Reject\", \"Pending\"]\n",
    "    return df[df['notes'].isin(l_tech_screen)].shape[0]\n",
    "\n",
    "# Function to count Hiring freeze\n",
    "def hiring_freeze(df):\n",
    "    return df[df['notes']=='Hiring freeze'].shape[0]\n",
    "\n",
    "# Function to count Failed\n",
    "def failed(df):\n",
    "    return df[df['notes']=='Failed'].shape[0]\n",
    "\n",
    "# Function to count On-Site/Final\n",
    "def onsite_final(df):\n",
    "    l_onsite_final = [\"Reject\", \"Pending\", \"Offer\"]\n",
    "    return df[df['notes'].isin(l_onsite_final)].shape[0]\n",
    "\n",
    "# Function to count Rejected\n",
    "def rejected(df):\n",
    "    return df[df['notes']=='Reject'].shape[0]\n",
    "\n",
    "# Function to count Pending\n",
    "def pending(df):\n",
    "    return df[df['notes']=='Pending'].shape[0]\n",
    "\n",
    "# Function to count Offer\n",
    "def offer(df):\n",
    "    return df[df['notes']=='Offer'].shape[0]"
   ]
  },
  {
   "cell_type": "markdown",
   "id": "3bbdad23-32e5-40da-b533-66aa727a5095",
   "metadata": {},
   "source": [
    "## Create Output Dataset"
   ]
  },
  {
   "cell_type": "code",
   "execution_count": 6,
   "id": "66a4177f-f6d9-4529-9bee-953140ee6ae6",
   "metadata": {},
   "outputs": [
    {
     "data": {
      "text/html": [
       "<div>\n",
       "<style scoped>\n",
       "    .dataframe tbody tr th:only-of-type {\n",
       "        vertical-align: middle;\n",
       "    }\n",
       "\n",
       "    .dataframe tbody tr th {\n",
       "        vertical-align: top;\n",
       "    }\n",
       "\n",
       "    .dataframe thead th {\n",
       "        text-align: right;\n",
       "    }\n",
       "</style>\n",
       "<table border=\"1\" class=\"dataframe\">\n",
       "  <thead>\n",
       "    <tr style=\"text-align: right;\">\n",
       "      <th></th>\n",
       "      <th>source</th>\n",
       "      <th>target</th>\n",
       "      <th>value</th>\n",
       "    </tr>\n",
       "  </thead>\n",
       "  <tbody>\n",
       "    <tr>\n",
       "      <th>0</th>\n",
       "      <td>Applications</td>\n",
       "      <td>No response</td>\n",
       "      <td>73</td>\n",
       "    </tr>\n",
       "    <tr>\n",
       "      <th>1</th>\n",
       "      <td>Applications</td>\n",
       "      <td>Rejection notice</td>\n",
       "      <td>59</td>\n",
       "    </tr>\n",
       "    <tr>\n",
       "      <th>2</th>\n",
       "      <td>Applications</td>\n",
       "      <td>Recruiter call</td>\n",
       "      <td>18</td>\n",
       "    </tr>\n",
       "    <tr>\n",
       "      <th>3</th>\n",
       "      <td>Recruiter call</td>\n",
       "      <td>Wrong role/fit/WLB/pay</td>\n",
       "      <td>5</td>\n",
       "    </tr>\n",
       "    <tr>\n",
       "      <th>4</th>\n",
       "      <td>Recruiter call</td>\n",
       "      <td>Tech screen</td>\n",
       "      <td>13</td>\n",
       "    </tr>\n",
       "    <tr>\n",
       "      <th>5</th>\n",
       "      <td>Tech screen</td>\n",
       "      <td>Hiring freeze</td>\n",
       "      <td>3</td>\n",
       "    </tr>\n",
       "    <tr>\n",
       "      <th>6</th>\n",
       "      <td>Tech screen</td>\n",
       "      <td>Failed</td>\n",
       "      <td>2</td>\n",
       "    </tr>\n",
       "    <tr>\n",
       "      <th>7</th>\n",
       "      <td>Tech screen</td>\n",
       "      <td>On-site/Final</td>\n",
       "      <td>8</td>\n",
       "    </tr>\n",
       "    <tr>\n",
       "      <th>8</th>\n",
       "      <td>On-site/Final</td>\n",
       "      <td>Reject</td>\n",
       "      <td>4</td>\n",
       "    </tr>\n",
       "    <tr>\n",
       "      <th>9</th>\n",
       "      <td>On-site/Final</td>\n",
       "      <td>Offer</td>\n",
       "      <td>0</td>\n",
       "    </tr>\n",
       "    <tr>\n",
       "      <th>10</th>\n",
       "      <td>On-site/Final</td>\n",
       "      <td>Pending</td>\n",
       "      <td>4</td>\n",
       "    </tr>\n",
       "  </tbody>\n",
       "</table>\n",
       "</div>"
      ],
      "text/plain": [
       "            source                  target value\n",
       "0     Applications             No response    73\n",
       "1     Applications        Rejection notice    59\n",
       "2     Applications          Recruiter call    18\n",
       "3   Recruiter call  Wrong role/fit/WLB/pay     5\n",
       "4   Recruiter call             Tech screen    13\n",
       "5      Tech screen           Hiring freeze     3\n",
       "6      Tech screen                  Failed     2\n",
       "7      Tech screen           On-site/Final     8\n",
       "8    On-site/Final                  Reject     4\n",
       "9    On-site/Final                   Offer     0\n",
       "10   On-site/Final                 Pending     4"
      ]
     },
     "execution_count": 6,
     "metadata": {},
     "output_type": "execute_result"
    }
   ],
   "source": [
    "# The final output needs to be a .csv file\n",
    "\n",
    "pdf_output = pd.DataFrame(columns=['source','target','value'])\n",
    "\n",
    "pdf_output.loc[0,:] = ['Applications', 'No response', no_response(pdf_original_data)]\n",
    "pdf_output.loc[1,:] = ['Applications', 'Rejection notice', rejection_notice(pdf_original_data)]\n",
    "pdf_output.loc[2,:] = ['Applications', 'Recruiter call', calls_with_recruiter(pdf_original_data)]\n",
    "pdf_output.loc[3,:] = ['Recruiter call', 'Wrong role/fit/WLB/pay', wrong_fit(pdf_original_data)]\n",
    "pdf_output.loc[4,:] = ['Recruiter call', 'Tech screen', tech_screen(pdf_original_data)]\n",
    "pdf_output.loc[5,:] = ['Tech screen', 'Hiring freeze', hiring_freeze(pdf_original_data)]\n",
    "pdf_output.loc[6,:] = ['Tech screen', 'Failed', failed(pdf_original_data)]\n",
    "pdf_output.loc[7,:] = ['Tech screen', 'On-site/Final', onsite_final(pdf_original_data)]\n",
    "pdf_output.loc[8,:] = ['On-site/Final', 'Reject', rejected(pdf_original_data)]\n",
    "pdf_output.loc[9,:] = ['On-site/Final', 'Offer', offer(pdf_original_data)]\n",
    "pdf_output.loc[10,:] = ['On-site/Final', 'Pending', pending(pdf_original_data)]\n",
    "\n",
    "pdf_output"
   ]
  },
  {
   "cell_type": "markdown",
   "id": "91a1c0bf-1221-4d97-a14f-90819c9deea9",
   "metadata": {},
   "source": [
    "## Write Output Data to GitHub"
   ]
  },
  {
   "cell_type": "code",
   "execution_count": 7,
   "id": "6f63ccf7-9cc2-48c4-a75d-a4efba5cacca",
   "metadata": {},
   "outputs": [
    {
     "data": {
      "text/plain": [
       "{'commit': Commit(sha=\"9547d264dea6777778aa2dfbd0df471b05edd674\"),\n",
       " 'content': ContentFile(path=\"InputDataForSankey.csv\")}"
      ]
     },
     "execution_count": 7,
     "metadata": {},
     "output_type": "execute_result"
    }
   ],
   "source": [
    "# Programatically update csv file in GitHub repo with commit message\n",
    "from github import Github\n",
    "from datetime import datetime\n",
    "import requests\n",
    "\n",
    "repo_owner = 'rlucas49'\n",
    "repo_name = 'EndToEnd_Project1_DataScienceJobSearch'\n",
    "file_name = 'InputDataForSankey.csv'\n",
    "token = pat_token\n",
    "formatted_datetime = datetime.now().strftime(\"%Y-%m-%d %H:%M:%S\")\n",
    "commit_message = f\"Update CSV file at {formatted_datetime}\"\n",
    "\n",
    "github = Github(token)\n",
    "repo = github.get_user(repo_owner).get_repo(repo_name)\n",
    "\n",
    "url = f'https://raw.githubusercontent.com/{repo_owner}/{repo_name}/refs/heads/main/{file_name}'\n",
    "response = requests.get(url)\n",
    "\n",
    "\n",
    "# Convert DataFrame back to CSV string\n",
    "csv_content = pdf_output.to_csv(index=False)\n",
    "\n",
    "# Get file metadata (needed for sha)\n",
    "contents = repo.get_contents(file_name, ref=\"main\")\n",
    "\n",
    "repo.update_file(path= file_name, \n",
    "                 message= commit_message, \n",
    "                 content= csv_content, \n",
    "                 sha= contents.sha, \n",
    "                 branch=\"main\")"
   ]
  }
 ],
 "metadata": {
  "kernelspec": {
   "display_name": "Python 3 (ipykernel)",
   "language": "python",
   "name": "python3"
  },
  "language_info": {
   "codemirror_mode": {
    "name": "ipython",
    "version": 3
   },
   "file_extension": ".py",
   "mimetype": "text/x-python",
   "name": "python",
   "nbconvert_exporter": "python",
   "pygments_lexer": "ipython3",
   "version": "3.8.5"
  }
 },
 "nbformat": 4,
 "nbformat_minor": 5
}
